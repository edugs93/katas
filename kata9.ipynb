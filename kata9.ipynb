{
 "cells": [
  {
   "cell_type": "code",
   "execution_count": null,
   "metadata": {},
   "outputs": [],
   "source": []
  },
  {
   "cell_type": "markdown",
   "metadata": {},
   "source": [
    "# Función para leer 3 tanques de combustible y muestre el promedio"
   ]
  },
  {
   "cell_type": "code",
   "execution_count": 14,
   "metadata": {},
   "outputs": [],
   "source": [
    "def generate_report(first_tank, second_tank, third_tank):\n",
    "    total_average = (first_tank+ second_tank + third_tank) / 3\n",
    "    return f\"\"\"Report:\n",
    "    Total in tank´s: {total_average}%\n",
    "    First tank: {first_tank}%\n",
    "    Second tank: {second_tank}%\n",
    "    Third tank: {third_tank}% \n",
    "    \"\"\"\n"
   ]
  },
  {
   "cell_type": "code",
   "execution_count": 15,
   "metadata": {},
   "outputs": [
    {
     "name": "stdout",
     "output_type": "stream",
     "text": [
      "Report:\n",
      "    Total in tank´s: 200.0%\n",
      "    First tank: 100%\n",
      "    Second tank: 200%\n",
      "    Third tank: 300% \n",
      "    \n"
     ]
    }
   ],
   "source": [
    "print(generate_report(100, 200, 300))"
   ]
  },
  {
   "cell_type": "markdown",
   "metadata": {},
   "source": [
    "# Función promedio "
   ]
  },
  {
   "cell_type": "code",
   "execution_count": 17,
   "metadata": {},
   "outputs": [],
   "source": [
    "def promedio(valores):\n",
    "    total = sum(valores)\n",
    "    n = len(valores)\n",
    "    return total / n\n"
   ]
  },
  {
   "cell_type": "markdown",
   "metadata": {},
   "source": [
    "# Agregando valores a los tanques"
   ]
  },
  {
   "cell_type": "code",
   "execution_count": 20,
   "metadata": {},
   "outputs": [
    {
     "data": {
      "text/plain": [
       "10.0"
      ]
     },
     "execution_count": 20,
     "metadata": {},
     "output_type": "execute_result"
    }
   ],
   "source": [
    "promedio( [10, 10, 10] )"
   ]
  },
  {
   "cell_type": "markdown",
   "metadata": {},
   "source": [
    "# Actualizando función"
   ]
  },
  {
   "cell_type": "code",
   "execution_count": 25,
   "metadata": {},
   "outputs": [
    {
     "data": {
      "text/plain": [
       "10.0"
      ]
     },
     "execution_count": 25,
     "metadata": {},
     "output_type": "execute_result"
    }
   ],
   "source": [
    "def generate_report(first_tank, second_tank, third_tank):\n",
    "    total_average = (first_tank+ second_tank + third_tank) / 3\n",
    "    return f\"\"\"Report:\n",
    "    Total in tank´s: {total_average}%\n",
    "    First tank: {first_tank}%\n",
    "    Second tank: {second_tank}%\n",
    "    Third tank: {third_tank}% \n",
    "    \"\"\"\n",
    "promedio([10, 10, 10]) "
   ]
  },
  {
   "cell_type": "markdown",
   "metadata": {},
   "source": [
    "# Función con un informe preciso de la misión. \n",
    "## Considera hora de prelanzamiento, tiempo de vuelo, destino, tanque externo y tanque interno"
   ]
  },
  {
   "cell_type": "code",
   "execution_count": null,
   "metadata": {},
   "outputs": [],
   "source": [
    "def reporte(hora_p, tiempo_vuelo, destino, tanque_externo, tanque_interno):\n",
    "    return f\"\"\"\n",
    "    Destino: {destino}\n",
    "    Tiempo total de vuelo: {hora_p + tiempo_vuelo } hrs\n",
    "    Total de combustible : {tanque_interno + tanque_externo} gas\n",
    "    \"\"\"\n",
    "\n",
    "print(reporte(10, 10, \"Destino\", 10, 10)) "
   ]
  },
  {
   "cell_type": "markdown",
   "metadata": {},
   "source": [
    "# Escribe tu nueva función de reporte considerando lo anterior\n",
    "En lugar de usar *args y **kwargs, aprovecha el hecho de que puedes usar cualquier nombre que desees. Asegurate que la función sea más legible mediante el uso de nombres de variables que están asociados con las entradas, como *minutes y **fuel_reservoirs:"
   ]
  },
  {
   "cell_type": "code",
   "execution_count": 43,
   "metadata": {},
   "outputs": [
    {
     "name": "stdout",
     "output_type": "stream",
     "text": [
      "\n",
      "    Destino: Destino\n",
      "    Tiempo total de vuelo: 40hrs\n",
      "    Total de combustible : 0 gas\n",
      "    \n"
     ]
    }
   ],
   "source": [
    "def reporte(destino, *minutes, **fuel_reservoirs):\n",
    "    return f\"\"\"\n",
    "    Destino: {destino}\n",
    "    Tiempo total de vuelo: {sum(minutes)}hrs\n",
    "    Total de combustible : {sum(fuel_reservoirs)} gas\n",
    "    \"\"\"\n",
    "\n",
    "print(reporte(\"Destino\", 10, 10, 10, 10)) "
   ]
  }
 ],
 "metadata": {
  "interpreter": {
   "hash": "397704579725e15f5c7cb49fe5f0341eb7531c82d19f2c29d197e8b64ab5776b"
  },
  "kernelspec": {
   "display_name": "Python 3.9.10 64-bit",
   "language": "python",
   "name": "python3"
  },
  "language_info": {
   "codemirror_mode": {
    "name": "ipython",
    "version": 3
   },
   "file_extension": ".py",
   "mimetype": "text/x-python",
   "name": "python",
   "nbconvert_exporter": "python",
   "pygments_lexer": "ipython3",
   "version": "3.9.10"
  },
  "orig_nbformat": 4
 },
 "nbformat": 4,
 "nbformat_minor": 2
}
