{
 "cells": [
  {
   "cell_type": "code",
   "execution_count": 5,
   "metadata": {},
   "outputs": [
    {
     "name": "stdout",
     "output_type": "stream",
     "text": [
      "Cuidado se aproxima un asteroide que puede causar daños\n"
     ]
    }
   ],
   "source": [
    "a = 28\n",
    "if a < 25:\n",
    "    print('Se acerca un asteroide pequeño')\n",
    "elif a >= 25:\n",
    "    print('Cuidado se aproxima un asteroide que puede causar daños') \n",
    "\n"
   ]
  },
  {
   "cell_type": "code",
   "execution_count": 7,
   "metadata": {},
   "outputs": [
    {
     "name": "stdout",
     "output_type": "stream",
     "text": [
      "Hasta nunca!!!!|\n"
     ]
    }
   ],
   "source": [
    "a = 10001\n",
    "if a < 25:\n",
    "    print('Se acerca un asteroide pequeño')\n",
    "elif a >= 25 and a<1000:\n",
    "    print('Cuidado se aproxima un asteroide que puede causar daños') \n",
    "elif a >= 1000:\n",
    "    print('Hasta nunca!!!!|') "
   ]
  },
  {
   "cell_type": "code",
   "execution_count": 9,
   "metadata": {},
   "outputs": [
    {
     "name": "stdout",
     "output_type": "stream",
     "text": [
      "Hasta nunca!!!!|\n"
     ]
    }
   ],
   "source": [
    "a = 1002\n",
    "v = 27\n",
    "if v < 25 and a < 25:\n",
    "    print('Se acerca un asteroide pequeño, mira el cielo')\n",
    "elif v > 25 and a >= 25 and a<1000:\n",
    "    print('Cuidado se aproxima un asteroide que puede causar daños') \n",
    "elif v > 25 and a >= 1000:\n",
    "    print('Hasta nunca!!!!|') "
   ]
  }
 ],
 "metadata": {
  "interpreter": {
   "hash": "397704579725e15f5c7cb49fe5f0341eb7531c82d19f2c29d197e8b64ab5776b"
  },
  "kernelspec": {
   "display_name": "Python 3.9.10 64-bit",
   "language": "python",
   "name": "python3"
  },
  "language_info": {
   "codemirror_mode": {
    "name": "ipython",
    "version": 3
   },
   "file_extension": ".py",
   "mimetype": "text/x-python",
   "name": "python",
   "nbconvert_exporter": "python",
   "pygments_lexer": "ipython3",
   "version": "3.9.10"
  },
  "orig_nbformat": 4
 },
 "nbformat": 4,
 "nbformat_minor": 2
}
